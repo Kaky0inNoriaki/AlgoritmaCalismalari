{
  "nbformat": 4,
  "nbformat_minor": 0,
  "metadata": {
    "colab": {
      "provenance": []
    },
    "kernelspec": {
      "name": "python3",
      "display_name": "Python 3"
    },
    "language_info": {
      "name": "python"
    }
  },
  "cells": [
    {
      "cell_type": "markdown",
      "source": [
        "İgü HEE Algoritma 01.10.2024 ilk phyton denemesi"
      ],
      "metadata": {
        "id": "-hFc5VoHcmSB"
      }
    },
    {
      "cell_type": "code",
      "execution_count": 2,
      "metadata": {
        "colab": {
          "base_uri": "https://localhost:8080/"
        },
        "id": "vRZGpofxbhBC",
        "outputId": "43ca2eae-117d-457c-b3e5-a457d380e242"
      },
      "outputs": [
        {
          "output_type": "stream",
          "name": "stdout",
          "text": [
            "Merhaba IGU HEE Algoritma Sınıfı\n"
          ]
        }
      ],
      "source": [
        "print(\"Merhaba IGU HEE Algoritma Sınıfı\") # İLK ÇIKTI"
      ]
    },
    {
      "cell_type": "code",
      "source": [
        "import sys\n",
        "print(sys.version)"
      ],
      "metadata": {
        "colab": {
          "base_uri": "https://localhost:8080/"
        },
        "id": "ZbyN9J9SeeQ5",
        "outputId": "2b660cd7-7d18-4e78-b7b4-74189cd8df50"
      },
      "execution_count": 3,
      "outputs": [
        {
          "output_type": "stream",
          "name": "stdout",
          "text": [
            "3.10.12 (main, Sep 11 2024, 15:47:36) [GCC 11.4.0]\n"
          ]
        }
      ]
    },
    {
      "cell_type": "code",
      "source": [
        "from google.colab import drive\n",
        "drive.mount('/content/drive')"
      ],
      "metadata": {
        "colab": {
          "base_uri": "https://localhost:8080/"
        },
        "id": "2Z9ACEPdhbv6",
        "outputId": "e8d654fa-0673-4640-8230-895049cac644"
      },
      "execution_count": 4,
      "outputs": [
        {
          "output_type": "stream",
          "name": "stdout",
          "text": [
            "Mounted at /content/drive\n"
          ]
        }
      ]
    },
    {
      "cell_type": "code",
      "source": [
        "import os\n",
        "os.chdir('/content/drive/My Drive/IGU_ALGORITMA')\n",
        "!pwd"
      ],
      "metadata": {
        "colab": {
          "base_uri": "https://localhost:8080/"
        },
        "id": "nX4PyWxNi1gY",
        "outputId": "153b11fc-72d2-4c50-9d67-767ab9e40138"
      },
      "execution_count": 6,
      "outputs": [
        {
          "output_type": "stream",
          "name": "stdout",
          "text": [
            "/content/drive/My Drive/IGU_ALGORITMA\n"
          ]
        }
      ]
    }
  ]
}